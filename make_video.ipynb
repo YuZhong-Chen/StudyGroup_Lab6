{
 "cells": [
  {
   "cell_type": "markdown",
   "metadata": {},
   "source": [
    "# Make Dataset Demo Video"
   ]
  },
  {
   "cell_type": "code",
   "execution_count": 13,
   "metadata": {},
   "outputs": [],
   "source": [
    "import os\n",
    "import cv2\n",
    "from glob import glob\n",
    "\n",
    "from tqdm import tqdm"
   ]
  },
  {
   "cell_type": "code",
   "execution_count": 14,
   "metadata": {},
   "outputs": [],
   "source": [
    "def make_video(source, result):\n",
    "    image_files = []\n",
    "    if os.path.isdir(source):\n",
    "        for ext in [\"png\"]:\n",
    "            files = glob(os.path.join(source, \"**/*.%s\" % (ext)), recursive=True)\n",
    "            if len(files) > 0:\n",
    "                image_files.extend(files)\n",
    "    image_files.sort()\n",
    "\n",
    "    video_writer = cv2.VideoWriter(result, cv2.VideoWriter_fourcc(*\"mp4v\"), 30, (2048, 1024))\n",
    "\n",
    "    for img_path in tqdm(image_files):\n",
    "        img = cv2.imread(img_path)\n",
    "\n",
    "        cv2.imshow(\"Video\", img)\n",
    "        video_writer.write(img)\n",
    "\n",
    "        if cv2.waitKey(1) == ord(\"q\"):\n",
    "            break\n",
    "\n",
    "    video_writer.release()\n",
    "    cv2.destroyAllWindows()"
   ]
  },
  {
   "cell_type": "code",
   "execution_count": 15,
   "metadata": {},
   "outputs": [
    {
     "name": "stderr",
     "output_type": "stream",
     "text": [
      "100%|██████████| 1200/1200 [01:08<00:00, 17.57it/s]\n"
     ]
    }
   ],
   "source": [
    "source = \"./datasets/leftImg8bit_demoVideo/leftImg8bit/demoVideo/stuttgart_02\"\n",
    "result = \"./test_inputs/demo3.mp4\"\n",
    "\n",
    "make_video(source, result)"
   ]
  }
 ],
 "metadata": {
  "kernelspec": {
   "display_name": "base",
   "language": "python",
   "name": "python3"
  },
  "language_info": {
   "codemirror_mode": {
    "name": "ipython",
    "version": 3
   },
   "file_extension": ".py",
   "mimetype": "text/x-python",
   "name": "python",
   "nbconvert_exporter": "python",
   "pygments_lexer": "ipython3",
   "version": "3.10.11"
  },
  "orig_nbformat": 4
 },
 "nbformat": 4,
 "nbformat_minor": 2
}
